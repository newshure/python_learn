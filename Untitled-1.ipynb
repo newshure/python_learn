{
 "cells": [
  {
   "cell_type": "code",
   "execution_count": 6,
   "metadata": {},
   "outputs": [
    {
     "name": "stdout",
     "output_type": "stream",
     "text": [
      "['www.google.com', 'www.haedongg.net', 'redmine.haedongg.net', 'https://www.naver.com']\n"
     ]
    },
    {
     "ename": "NameError",
     "evalue": "name 'get' is not defined",
     "output_type": "error",
     "traceback": [
      "\u001b[1;31m---------------------------------------------------------------------------\u001b[0m",
      "\u001b[1;31mNameError\u001b[0m                                 Traceback (most recent call last)",
      "Cell \u001b[1;32mIn[6], line 25\u001b[0m\n\u001b[0;32m     23\u001b[0m site\u001b[39m=\u001b[39m\u001b[39mf\u001b[39m\u001b[39m\"\u001b[39m\u001b[39mhttps://\u001b[39m\u001b[39m{\u001b[39;00msite\u001b[39m}\u001b[39;00m\u001b[39m\"\u001b[39m\n\u001b[0;32m     24\u001b[0m websites[init_count]\u001b[39m=\u001b[39msite\n\u001b[1;32m---> 25\u001b[0m response\u001b[39m=\u001b[39mget(websites[init_count])\n\u001b[0;32m     26\u001b[0m \u001b[39mprint\u001b[39m(\u001b[39mf\u001b[39m\u001b[39m\"\u001b[39m\u001b[39m{\u001b[39;00mwebsites[init_count]\u001b[39m}\u001b[39;00m\u001b[39m is \u001b[39m\u001b[39m{\u001b[39;00mresponse\u001b[39m}\u001b[39;00m\u001b[39m\"\u001b[39m)\n\u001b[0;32m     27\u001b[0m init_count\u001b[39m=\u001b[39minit_count\u001b[39m+\u001b[39m\u001b[39m1\u001b[39m\n",
      "\u001b[1;31mNameError\u001b[0m: name 'get' is not defined"
     ]
    }
   ],
   "source": [
    "#from requests import get\n",
    "\n",
    "websites=[\"www.google.com\",\n",
    "          \"www.haedongg.net\",\n",
    "          \"redmine.haedongg.net\",\n",
    "          \"https://www.naver.com\"]\n",
    "\n",
    "newsite=input(\"enter URL\\n\")\n",
    "\n",
    "while len(newsite)!=0:\n",
    "  newsite=input(\"enterURL\\n\")\n",
    "  if len(newsite)==0:\n",
    "    break\n",
    "  else:\n",
    "    websites.append(newsite)\n",
    "\n",
    "\n",
    "print(websites)\n",
    "init_count=0\n",
    "\n",
    "for site in websites:\n",
    "  if not site.startswith(\"https://\"):\n",
    "    site=f\"https://{site}\"\n",
    "    websites[init_count]=site\n",
    "    response=get(websites[init_count])\n",
    "    print(f\"{websites[init_count]} is {response}\")\n",
    "    init_count=init_count+1\n",
    "  else: \n",
    "    response=get(websites[init_count])\n",
    "    print(f\"{websites[init_count]} is {response}\")\n",
    "    init_count=init_count+1\n",
    "\n"
   ]
  }
 ],
 "metadata": {
  "kernelspec": {
   "display_name": "Python 3",
   "language": "python",
   "name": "python3"
  },
  "language_info": {
   "codemirror_mode": {
    "name": "ipython",
    "version": 3
   },
   "file_extension": ".py",
   "mimetype": "text/x-python",
   "name": "python",
   "nbconvert_exporter": "python",
   "pygments_lexer": "ipython3",
   "version": "3.10.10"
  },
  "orig_nbformat": 4,
  "vscode": {
   "interpreter": {
    "hash": "1ddb9f1bccb93f17d7c31a4c8d993b52afc89b7d373277fc61e203361aa7ce7f"
   }
  }
 },
 "nbformat": 4,
 "nbformat_minor": 2
}
